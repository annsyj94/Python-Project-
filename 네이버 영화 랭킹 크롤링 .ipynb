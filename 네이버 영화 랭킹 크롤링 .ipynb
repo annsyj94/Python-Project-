{
 "cells": [
  {
   "cell_type": "code",
   "execution_count": 1,
   "metadata": {},
   "outputs": [
    {
     "name": "stdout",
     "output_type": "stream",
     "text": [
      "1위:소울\n",
      "2위:극장판 귀멸의 칼날: 무한열차편\n",
      "3위:세자매\n",
      "4위:명탐정 코난: 진홍의 수학여행\n",
      "5위:나는 나를 해고하지 않는다\n",
      "6위:토이 솔져스: 가짜사나이2 더 컴플리트\n",
      "7위:캐롤\n",
      "8위:커넥트\n",
      "9위:북스마트\n",
      "10위:화양연화\n",
      "11위:원더 우먼 1984\n",
      "12위:사일런싱\n",
      "13위:게임의 법칙: 인간사냥\n",
      "14위:미나리\n",
      "15위:관계의 가나다에 있는 우리는\n",
      "16위:삼진그룹 영어토익반\n",
      "17위:어니스트 씨프\n",
      "18위:블라인드\n",
      "19위:고백\n",
      "20위:#아이엠히어\n",
      "21위:스푸트닉\n",
      "22위:몬스터 헌터\n",
      "23위:이 안에 외계인이 있다\n",
      "24위:어바웃 타임\n",
      "25위:모추어리 컬렉션\n",
      "26위:늑대와 빨간 재킷\n",
      "27위:극장판 바이올렛 에버가든\n",
      "28위:헌트\n",
      "29위:승리호\n",
      "30위:고질라 VS. 콩\n",
      "31위:데스 숏컷\n",
      "32위:신과함께-인과 연\n",
      "33위:테넷\n",
      "34위:아이 엠 우먼\n",
      "35위:그린 북\n",
      "36위:서바이브 더 나잇\n",
      "37위:도굴\n",
      "38위:큰엄마의 미친봉고\n",
      "39위:미스터 존스\n",
      "40위:새해전야\n",
      "41위:스트레스 제로\n",
      "42위:세상의 모든 디저트: 러브 사라\n",
      "43위:아이\n",
      "44위:해피 투게더\n",
      "45위:조제\n",
      "46위:디노소어 어드벤쳐\n",
      "47위:미션 파서블\n",
      "48위:더블패티\n",
      "49위:언플랜드\n",
      "50위:페어웰\n"
     ]
    }
   ],
   "source": [
    "import urllib.request \n",
    "from bs4 import BeautifulSoup \n",
    "import datetime \n",
    "\n",
    "url = \"https://movie.naver.com/movie/sdb/rank/rmovie.nhn \"\n",
    "data = urllib.request.urlopen(url)\n",
    "soup = BeautifulSoup(data,\"html.parser\")\n",
    "\n",
    "title = soup.findAll(\"div\",{\"class\":\"tit3\"})\n",
    "\n",
    "i = 1 \n",
    "\n",
    "for a in title : \n",
    "    a_tag = a.find(\"a\")\n",
    "    a_data = a_tag.text \n",
    "    print(str(i)+\"위:\"+ a_data)\n",
    "    i=i+1\n",
    "    "
   ]
  }
 ],
 "metadata": {
  "kernelspec": {
   "display_name": "Python 3",
   "language": "python",
   "name": "python3"
  },
  "language_info": {
   "codemirror_mode": {
    "name": "ipython",
    "version": 3
   },
   "file_extension": ".py",
   "mimetype": "text/x-python",
   "name": "python",
   "nbconvert_exporter": "python",
   "pygments_lexer": "ipython3",
   "version": "3.8.3"
  }
 },
 "nbformat": 4,
 "nbformat_minor": 4
}
